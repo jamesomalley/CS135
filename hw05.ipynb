{
 "cells": [
  {
   "cell_type": "markdown",
   "metadata": {},
   "source": [
    "## Name and ID\n",
    "\n",
    "**TODO**"
   ]
  },
  {
   "cell_type": "markdown",
   "metadata": {},
   "source": [
    "## HW05 Code\n",
    "\n",
    "\n",
    "You will complete the following notebook, as described in the PDF for Homework 05 (included in the download with the starter code).  You will submit:\n",
    "1. This notebook file, along with your COLLABORATORS.txt file and the two tree images (PDFs generated using `graphviz` within the code), to the Gradescope link for code.\n",
    "2. A PDF of this notebook and all of its output, once it is completed, to the Gradescope link for the PDF.\n",
    "\n",
    "\n",
    "Please report any questions to the [class Piazza page](https://piazza.com/tufts/spring2021/comp135).\n",
    "\n",
    "### Import required libraries."
   ]
  },
  {
   "cell_type": "code",
   "execution_count": 10,
   "metadata": {},
   "outputs": [],
   "source": [
    "import numpy as np\n",
    "import pandas as pd\n",
    "\n",
    "import sklearn.tree\n",
    "import graphviz"
   ]
  },
  {
   "cell_type": "markdown",
   "metadata": {},
   "source": [
    "## Decision Trees\n",
    "\n",
    "You should start by computing the two heuristic values for the toy data described in the assignment handout. You should then load the two versions of the abalone data, compute the two heuristic values on features (for the simplified data), and then build decision trees for each set of data."
   ]
  },
  {
   "cell_type": "markdown",
   "metadata": {},
   "source": [
    "### 1 Compute both heuristics for toy data."
   ]
  },
  {
   "cell_type": "markdown",
   "metadata": {},
   "source": [
    "#### (a) Compute the counting-based heuristic, and order the features by it."
   ]
  },
  {
   "cell_type": "code",
   "execution_count": 44,
   "metadata": {},
   "outputs": [
    {
     "name": "stdout",
     "output_type": "stream",
     "text": [
      "a: 0.75\n",
      "b: 0.75\n"
     ]
    }
   ],
   "source": [
    "# TODO\n",
    "df = pd.DataFrame({'type': [\"o\",\"o\",\"o\",\"x\",\"o\",\"x\",\"x\",\"x\"],'A': [1, 1, 0,0,0,0,0,0], 'B': [1,1,1,1,0,0,0,0]})\n",
    "\n",
    "a_true_correct = 6\n",
    "a_false_correct = 6\n",
    "a_accuracy = (a_true_correct + a_false_correct) / (len(df) * 2)\n",
    "\n",
    "b_true_correct = 6\n",
    "b_false_correct = 6\n",
    "b_accuracy = (b_true_correct + b_false_correct) / (len(df) * 2)\n",
    "\n",
    "print(\"a:\", a_accuracy)\n",
    "print(\"b:\", b_accuracy)\n"
   ]
  },
  {
   "cell_type": "markdown",
   "metadata": {},
   "source": [
    "#### (b) Compute the information-theoretic heuristic, and order the features by it."
   ]
  },
  {
   "cell_type": "code",
   "execution_count": 55,
   "metadata": {
    "scrolled": true
   },
   "outputs": [
    {
     "name": "stdout",
     "output_type": "stream",
     "text": [
      "a:  0.5408520829727552\n",
      "b:  0.06917291654647406\n"
     ]
    }
   ],
   "source": [
    "import math\n",
    "# TODO\n",
    "p_n = (4+4)\n",
    "p_pos = 4/p_n\n",
    "p_neg = 4/p_n\n",
    "h_examples = -(p_pos*math.log2(.5)+p_neg*math.log2(.5))\n",
    "\n",
    "\n",
    "a_true_o = 2\n",
    "a_true_x = 0\n",
    "a_false_o = 2\n",
    "a_false_x = 4\n",
    "a_h_e2 = -((2/6)*math.log2((2/6))+(4/6)*math.log2(4/6))\n",
    "\n",
    "b_true_o = 3\n",
    "b_true_x = 1\n",
    "b_false_o = 1\n",
    "b_false_x = 3\n",
    "\n",
    "b_h_e1 = -((3/6)*math.log2((3/6))+(1/6)*math.log2(1/6))\n",
    "b_h_e2 = -((1/6)*math.log2((1/6))+(3/6)*math.log2(3/6))\n",
    "\n",
    "\n",
    "#remainder_a = (((a_true_o+a_true_x)/p_n)*h_examples) + (((a_false_o+a_false_x)/p_n)*h_examples)\n",
    "#remainder_b = (((b_true_o+b_true_x)/p_n)*h_examples) + (((b_false_o+b_false_x)/p_n)*h_examples)\n",
    "\n",
    "gain_a = h_examples - a_h_e2/2\n",
    "gain_b = h_examples - (b_h_e1 + b_h_e2)/2\n",
    "\n",
    "\n",
    "print(\"a: \", gain_a)\n",
    "print(\"b: \", gain_b)\n"
   ]
  },
  {
   "cell_type": "markdown",
   "metadata": {},
   "source": [
    "#### (c) Discussion of results.\n",
    "\n",
    "These results show the difference in the two heuristics. For the counting method in 1(a), the two features appear to be identical in terms of their usefulness to classifying the data as they both had an accuracy of .75. When reviewing the information-theoretic heuristic in problem 1(b), however, we see that A has more information gain. There is an equal number of obsevations for True/False for B while A has most observations in False. Therefore, the classification of A is more telling. "
   ]
  },
  {
   "cell_type": "markdown",
   "metadata": {},
   "source": [
    "### 2 Compute both heuristics for simplified abalone data."
   ]
  },
  {
   "cell_type": "markdown",
   "metadata": {},
   "source": [
    "#### (a) Compute the counting-based heuristic, and order the features by it."
   ]
  },
  {
   "cell_type": "code",
   "execution_count": 4,
   "metadata": {},
   "outputs": [],
   "source": [
    "# TODO\n",
    "import os\n",
    "curr_dir = os.getcwd()\n",
    "x_train = pd.read_csv(curr_dir+ r'\\data_abalone\\x_train.csv')\n",
    "x_test = pd.read_csv(curr_dir+ r'\\data_abalone\\x_test.csv')\n",
    "y_train = pd.read_csv(curr_dir+ r'\\data_abalone\\y_train.csv')\n",
    "x_test = pd.read_csv(curr_dir+ r'\\data_abalone\\x_test.csv')"
   ]
  },
  {
   "cell_type": "markdown",
   "metadata": {},
   "source": [
    "#### (b) Compute the information-theoretic heuristic, and order the features by it."
   ]
  },
  {
   "cell_type": "code",
   "execution_count": 5,
   "metadata": {
    "scrolled": true
   },
   "outputs": [],
   "source": [
    "# TODO"
   ]
  },
  {
   "cell_type": "markdown",
   "metadata": {},
   "source": [
    "### 3 Generate decision trees for full- and restricted-feature data\n",
    "\n",
    "#### (a) Print accuracy values and generate tree images."
   ]
  },
  {
   "cell_type": "code",
   "execution_count": 6,
   "metadata": {},
   "outputs": [],
   "source": [
    "# TODO"
   ]
  },
  {
   "cell_type": "markdown",
   "metadata": {},
   "source": [
    "#### (b) Discuss the results seen for the two trees\n",
    "\n",
    "*TODO*"
   ]
  },
  {
   "cell_type": "code",
   "execution_count": null,
   "metadata": {},
   "outputs": [],
   "source": []
  }
 ],
 "metadata": {
  "kernelspec": {
   "display_name": "Python 3 (ipykernel)",
   "language": "python",
   "name": "python3"
  },
  "language_info": {
   "codemirror_mode": {
    "name": "ipython",
    "version": 3
   },
   "file_extension": ".py",
   "mimetype": "text/x-python",
   "name": "python",
   "nbconvert_exporter": "python",
   "pygments_lexer": "ipython3",
   "version": "3.7.11"
  }
 },
 "nbformat": 4,
 "nbformat_minor": 2
}
